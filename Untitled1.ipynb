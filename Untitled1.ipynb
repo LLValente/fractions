{
 "cells": [
  {
   "cell_type": "code",
   "execution_count": 1,
   "id": "3fe2637a-970e-4659-a553-a1bc196f4de4",
   "metadata": {},
   "outputs": [],
   "source": [
    "import questions as q"
   ]
  },
  {
   "cell_type": "code",
   "execution_count": 2,
   "id": "8b87a74c-8a1f-4814-ae12-d1823f765bbd",
   "metadata": {},
   "outputs": [
    {
     "name": "stdout",
     "output_type": "stream",
     "text": [
      "id:   fracdraw01\n",
      "subject:    Fractions\n",
      "type:   Drawing\n",
      "difficulty: 1\n",
      "header: Escreva por extenso o nome de cada fração abaixo.\n",
      "pontuation: 1.0\n",
      "double items:   0\n",
      "items number:   4\n",
      "ending: \\n\n",
      "competence: EF06MA07\n"
     ]
    }
   ],
   "source": [
    "quest = q.Question('fracdraw01')"
   ]
  },
  {
   "cell_type": "code",
   "execution_count": 3,
   "id": "f60240ca-7a88-4457-b4d5-f2f2c96890e6",
   "metadata": {},
   "outputs": [
    {
     "data": {
      "text/plain": [
       "1.0"
      ]
     },
     "execution_count": 3,
     "metadata": {},
     "output_type": "execute_result"
    }
   ],
   "source": [
    "quest.pontuation"
   ]
  },
  {
   "cell_type": "code",
   "execution_count": null,
   "id": "9fd87eb3-1d22-467c-a387-05836b1edb59",
   "metadata": {},
   "outputs": [],
   "source": []
  }
 ],
 "metadata": {
  "kernelspec": {
   "display_name": "Python 3 (ipykernel)",
   "language": "python",
   "name": "python3"
  },
  "language_info": {
   "codemirror_mode": {
    "name": "ipython",
    "version": 3
   },
   "file_extension": ".py",
   "mimetype": "text/x-python",
   "name": "python",
   "nbconvert_exporter": "python",
   "pygments_lexer": "ipython3",
   "version": "3.11.3"
  }
 },
 "nbformat": 4,
 "nbformat_minor": 5
}
